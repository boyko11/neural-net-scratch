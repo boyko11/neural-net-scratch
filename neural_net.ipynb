{
 "cells": [
  {
   "cell_type": "markdown",
   "id": "073d97b9",
   "metadata": {},
   "source": [
    "# Neural Net from scratch\n",
    "I watched a short clip from Lex Fridman interviewing Andrej Karpathy, so here I am building a neural network from scratch, putting in time towards my 10000 hours. By the time I reach this 10000 hours number, I may no longer be :)"
   ]
  },
  {
   "cell_type": "markdown",
   "id": "f9d6cf80",
   "metadata": {},
   "source": [
    "## Forward Prop"
   ]
  },
  {
   "cell_type": "code",
   "execution_count": 321,
   "id": "eb3dc02f",
   "metadata": {},
   "outputs": [
    {
     "name": "stdout",
     "output_type": "stream",
     "text": [
      "Hidden Layer 1 matrix: (6, 3)\n",
      "\n",
      "[[1. 1. 1.]\n",
      " [1. 1. 1.]\n",
      " [1. 1. 1.]\n",
      " [1. 1. 1.]\n",
      " [1. 1. 1.]\n",
      " [1. 1. 1.]]\n",
      "\n",
      "Hidden Layer 2 matrix: (4, 7)\n",
      "\n",
      "[[1. 1. 1. 1. 1. 1. 1.]\n",
      " [1. 1. 1. 1. 1. 1. 1.]\n",
      " [1. 1. 1. 1. 1. 1. 1.]\n",
      " [1. 1. 1. 1. 1. 1. 1.]]\n",
      "\n",
      "Output Layer matrix: (1, 5)\n",
      "\n",
      "[[1. 1. 1. 1. 1.]]\n"
     ]
    }
   ],
   "source": [
    "import numpy as np\n",
    "\n",
    "num_inputs = 2\n",
    "num_hidden_layers = 2\n",
    "num_nodes_hidden_layer_1 = 6\n",
    "num_nodes_hidden_layer_2 = 4\n",
    "num_outputs = 1\n",
    "\n",
    "# weight matrix between the inputs and the first hidden layer\n",
    "# If our first hidden layer has 6 units\n",
    "# we'd need to produce a calculation for each hidden unit,\n",
    "# IE the result of the dot product of the weight matrix for this hidden layer and the input vector should be\n",
    "# a 6 x 1 vector.\n",
    "# what we feed that matrix is our input layer:\n",
    "# the dimension of our input is 2 x 1, but since we also need to add a bias unit,\n",
    "# for convenience we add the bias into the input vector as a 1 - \n",
    "# [\n",
    "#    1,\n",
    "#    x1,\n",
    "#    x2\n",
    "# ]\n",
    "# Now we feed the weight matrix a (3 x 1) input vector so we get a 6 x 1 activations vector, hence\n",
    "# Our weight matrix needs to be 6 x 3 :\n",
    "# (6 x 3) dot (3 x 1) = 6 x 1\n",
    "\n",
    "# for the sake of verifying calculation, for now our weight matrices would be 1s\n",
    "# later we will randomize them\n",
    "hidden_layer_1_weight_matrix = np.ones((num_nodes_hidden_layer_1, num_inputs + 1))\n",
    "\n",
    "print(f'Hidden Layer 1 matrix: {hidden_layer_1_weight_matrix.shape}\\n')\n",
    "print(hidden_layer_1_weight_matrix)\n",
    "\n",
    "\n",
    "print()\n",
    "# Similarly, we need to feed this  6 x 1 activations vector plus a bias unit(so 7 x 1 vector)\n",
    "# into the weight matrix for the second hidden layer\n",
    "# The second hidden layer has 4 nodes, hence needs to produce a 4 x 1 activations vector, so\n",
    "# The weight matrix for the second hidden layer would be 4 x 7: (4x7) dot (7x1) = 4x1\n",
    "\n",
    "hidden_layer_2_weight_matrix = np.ones((num_nodes_hidden_layer_2, num_nodes_hidden_layer_1 + 1))\n",
    "\n",
    "print(f'Hidden Layer 2 matrix: {hidden_layer_2_weight_matrix.shape}\\n')\n",
    "print(hidden_layer_2_weight_matrix)\n",
    "\n",
    "print()\n",
    "# And again, we need to feed the 4x1 activations vector plus a bias unit(so 5x1)\n",
    "# into the weight matrix for the output layer\n",
    "# The output layer is a singled node (1, 1), so\n",
    "# The weight matrix for the output layer would be (1x5)\n",
    "# (1x5)dot(5x1) = (1x1)\n",
    "\n",
    "output_layer_weight_matrix = np.ones((num_outputs, num_nodes_hidden_layer_2 + 1))\n",
    "\n",
    "print(f'Output Layer matrix: {output_layer_weight_matrix.shape}\\n')\n",
    "print(output_layer_weight_matrix)\n",
    "\n"
   ]
  },
  {
   "cell_type": "markdown",
   "id": "b9af1e3e",
   "metadata": {},
   "source": [
    "### Actual Forward Prop\n",
    "##### Now that we have all the matrices, let's see if we can get a sample input vector to turn into output.\n",
    "##### We will feed a forward prop function our input vector(2x1) and we should end up with a 1x1 output"
   ]
  },
  {
   "cell_type": "code",
   "execution_count": 322,
   "id": "bb73e94d",
   "metadata": {},
   "outputs": [
    {
     "name": "stdout",
     "output_type": "stream",
     "text": [
      "sample_inputs shape: (2, 1)\n",
      "(3, 1)\n",
      "[[1.]\n",
      " [1.]\n",
      " [1.]]\n",
      "\n",
      "hidden_layer_1_weight_matrix shape: (6, 3)\n",
      "input_vector_plus_bias shape: (3, 1)\n",
      "layer_1_activations_vector shape: (6, 1)\n",
      "\n",
      "[[3.]\n",
      " [3.]\n",
      " [3.]\n",
      " [3.]\n",
      " [3.]\n",
      " [3.]]\n",
      "\n",
      "hidden_layer_2_weight_matrix shape: (4, 7)\n",
      "layer_1_activations_vector_plus_bias shape: (7, 1)\n",
      "layer_2_activations_vector: (4, 1)\n",
      "\n",
      "[[19.]\n",
      " [19.]\n",
      " [19.]\n",
      " [19.]]\n",
      "\n",
      "output_layer_weight_matrix shape: (1, 5)\n",
      "layer_2_activations_vector_plus_bias shape: (5, 1)\n",
      "output_vector shape: (1, 1)\n",
      "\n",
      "[[77.]]\n"
     ]
    }
   ],
   "source": [
    "def forward_prop(input_vectors, hidden_layer_1_weight_matrix, hidden_layer_2_weight_matrix, \n",
    "                 output_layer_weight_matrix):\n",
    "    # input shape:\n",
    "    # [x11, x21, x31, ..., xN1],\n",
    "    # [x12, x22, x32, ..., xN2]\n",
    "    num_records = input_vectors.shape[1]\n",
    "    # add the bias unit to the input\n",
    "    input_vectors_plus_bias = np.vstack([np.ones(num_records), input_vectors])\n",
    "    print(input_vectors_plus_bias.shape)\n",
    "    print(input_vectors_plus_bias)\n",
    "    layer_1_activations_vectors = np.dot(hidden_layer_1_weight_matrix, input_vectors_plus_bias)\n",
    "    \n",
    "    print(f'\\nhidden_layer_1_weight_matrix shape: {hidden_layer_1_weight_matrix.shape}')\n",
    "    print(f'input_vector_plus_bias shape: {input_vectors_plus_bias.shape}')\n",
    "    print(f'layer_1_activations_vector shape: {layer_1_activations_vectors.shape}\\n')\n",
    "    print(layer_1_activations_vectors)\n",
    "    \n",
    "    # add the bias unit to the layer_1_activations_vector\n",
    "    layer_1_activations_vectors_plus_bias = np.vstack([np.ones(num_records), layer_1_activations_vectors])\n",
    "    layer_2_activations_vectors = np.dot(hidden_layer_2_weight_matrix, layer_1_activations_vectors_plus_bias)\n",
    "    \n",
    "    print(f'\\nhidden_layer_2_weight_matrix shape: {hidden_layer_2_weight_matrix.shape}')\n",
    "    print(f'layer_1_activations_vector_plus_bias shape: {layer_1_activations_vectors_plus_bias.shape}')\n",
    "    print(f'layer_2_activations_vector: {layer_2_activations_vectors.shape}\\n')\n",
    "    print(layer_2_activations_vectors)\n",
    "    \n",
    "    \n",
    "    # add the bias unit to the layer_2_activations_vector\n",
    "    layer_2_activations_vectors_plus_bias = np.vstack([np.ones(num_records), layer_2_activations_vectors])\n",
    "    output_vectors = np.dot(output_layer_weight_matrix, layer_2_activations_vectors_plus_bias)\n",
    "    \n",
    "    print(f'\\noutput_layer_weight_matrix shape: {output_layer_weight_matrix.shape}')\n",
    "    print(f'layer_2_activations_vector_plus_bias shape: {layer_2_activations_vectors_plus_bias.shape}')\n",
    "    print(f'output_vector shape: {output_vectors.shape}\\n')\n",
    "    \n",
    "    # I know it seems strange at the moment that we are also returning the intermediate activations.\n",
    "    # For now we can just ignore them, but they will eventually be needed by backpropagation\n",
    "    return layer_1_activations_vectors_plus_bias, layer_2_activations_vectors_plus_bias, output_vectors\n",
    "\n",
    "\n",
    "sample_inputs = np.array([\n",
    "    [1],\n",
    "    [1]\n",
    "])\n",
    "\n",
    "print(f'sample_inputs shape: {sample_inputs.shape}')\n",
    "# Let's ignore a1 and a2 for now. We will need them later. \n",
    "# For now we just care about the network's output\n",
    "a1, a2, output_vectors = forward_prop(sample_inputs, hidden_layer_1_weight_matrix, hidden_layer_2_weight_matrix, \n",
    "                 output_layer_weight_matrix)\n",
    "\n",
    "\n",
    "print(output_vectors)\n",
    "\n"
   ]
  },
  {
   "cell_type": "markdown",
   "id": "04479ef7",
   "metadata": {},
   "source": [
    "Seems to check out, but the activation function is the identity function => this is all very linear\n",
    "To make it non-linear, we'd have to feed the activations to non-linear functions\n",
    "##### The sigmoid is a good learning start"
   ]
  },
  {
   "cell_type": "code",
   "execution_count": 323,
   "id": "9dc3f6a5",
   "metadata": {},
   "outputs": [],
   "source": [
    "def sigmoid(this_vector):\n",
    "    return 1/(1 + np.exp(-this_vector))"
   ]
  },
  {
   "cell_type": "markdown",
   "id": "99d64ea3",
   "metadata": {},
   "source": [
    "The sigmoid outputs numbers in the range (0,1). For this exercise, we will attempt to create a network that can predict a number in any range, hence we will not run our output activation through the sigmoid."
   ]
  },
  {
   "cell_type": "markdown",
   "id": "a9763462",
   "metadata": {},
   "source": [
    "We will squish all the hidden activations through the sigmoid though. Here's the updated forward_prop function:"
   ]
  },
  {
   "cell_type": "code",
   "execution_count": 324,
   "id": "efc1bbbe",
   "metadata": {},
   "outputs": [
    {
     "name": "stdout",
     "output_type": "stream",
     "text": [
      "(array([[1.        , 1.        , 1.        , 1.        ],\n",
      "       [0.89665977, 0.64995946, 0.44903376, 0.79203129],\n",
      "       [0.70890134, 0.3221307 , 0.27119758, 0.65599483],\n",
      "       [0.68587818, 0.24507462, 0.06977008, 0.33531314],\n",
      "       [0.43519928, 0.54299425, 0.30294229, 0.21987456],\n",
      "       [0.26690765, 0.41844726, 0.31899662, 0.19160654],\n",
      "       [0.64125508, 0.30369242, 0.25446677, 0.58313647]]), array([[1.        , 1.        , 1.        , 1.        ],\n",
      "       [0.36339466, 0.34061217, 0.33005886, 0.36230199],\n",
      "       [0.39837714, 0.36261858, 0.35454172, 0.34186682],\n",
      "       [0.74820176, 0.67550329, 0.60654247, 0.69019798],\n",
      "       [0.4166414 , 0.40617255, 0.37198703, 0.36334608]]), array([[-0.22633111, -0.25457477, -0.30536782, -0.23376237]]))\n"
     ]
    }
   ],
   "source": [
    "def forward_prop(input_vectors, hidden_layer_1_weight_matrix, hidden_layer_2_weight_matrix, \n",
    "                 output_layer_weight_matrix):\n",
    "    \n",
    "    num_records = input_vectors.shape[1]\n",
    "    \n",
    "    input_vectors_plus_bias = np.vstack([np.ones(num_records), input_vectors])\n",
    "    layer_1_activations_vectors = np.dot(hidden_layer_1_weight_matrix, input_vectors_plus_bias)   \n",
    "    layer_1_activations_vectors = sigmoid(layer_1_activations_vectors)\n",
    "    \n",
    "    layer_1_activations_vectors_plus_bias = np.vstack([np.ones(num_records), layer_1_activations_vectors])\n",
    "    layer_2_activations_vectors = np.dot(hidden_layer_2_weight_matrix, layer_1_activations_vectors_plus_bias)\n",
    "    layer_2_activations_vectors = sigmoid(layer_2_activations_vectors)\n",
    "    \n",
    "    layer_2_activations_vectors_plus_bias = np.vstack([np.ones(num_records), layer_2_activations_vectors])\n",
    "    output_vectors = np.dot(output_layer_weight_matrix, layer_2_activations_vectors_plus_bias)\n",
    "    \n",
    "    return layer_1_activations_vectors_plus_bias, layer_2_activations_vectors_plus_bias, output_vectors\n",
    "\n",
    "# let's do all quadrants\n",
    "# 4 X vectors, one for each quadrant\n",
    "sample_input = np.array([\n",
    "    [-1, 1,  1, -1],\n",
    "    [ 1, 1, -1, -1]\n",
    "])\n",
    "\n",
    "# Since we are feeding it 4 records of 2 dimensions - (2x4) - we should get a 1x4 output vector - \n",
    "# 1 output for each of the 4 input records\n",
    "\n",
    "#As promised, let's make the weight matrices be not 1s\n",
    "hidden_layer_1_weight_matrix = np.random.uniform(low=-1, high=1, size=(num_nodes_hidden_layer_1, num_inputs + 1))\n",
    "hidden_layer_2_weight_matrix = np.random.uniform(low=-1, high=1, size=(num_nodes_hidden_layer_2, num_nodes_hidden_layer_1 + 1))\n",
    "output_layer_weight_matrix = np.random.uniform(low=-1, high=1, size=(num_outputs, num_nodes_hidden_layer_2 + 1))\n",
    "\n",
    "output_vectors = forward_prop(sample_input, hidden_layer_1_weight_matrix, hidden_layer_2_weight_matrix, \n",
    "                 output_layer_weight_matrix)\n",
    "\n",
    "\n",
    "print(output_vectors)"
   ]
  },
  {
   "cell_type": "markdown",
   "id": "422dd489",
   "metadata": {},
   "source": [
    "## What are we gonna learn?"
   ]
  },
  {
   "cell_type": "markdown",
   "id": "9fa3750d",
   "metadata": {},
   "source": [
    "So far we have not coded anything super fancy. It's just a bunch of dot products and squishifications. The fancy part is call back propagation - that's the part that does the actual \"learning\".  \n",
    "Before we go there, though, let's pick and plot a function we hope our network would learn. Let's go with sine: "
   ]
  },
  {
   "cell_type": "code",
   "execution_count": 325,
   "id": "ff6df5a7",
   "metadata": {},
   "outputs": [
    {
     "data": {
      "image/png": "[encoded data removed]",
      "text/plain": [
       "<Figure size 640x480 with 1 Axes>"
      ]
     },
     "metadata": {},
     "output_type": "display_data"
    }
   ],
   "source": [
    "def generate_sine_data(x_min=-20, x_max=20, num_records=5000):\n",
    "    \n",
    "    x_vals = np.round(np.random.uniform(low=x_min, high=x_max, size=num_records), 4)\n",
    "    y_vals = np.round(np.sin(x_vals), 4)\n",
    "    \n",
    "    x_y_sine_data = np.array([\n",
    "       x_vals,\n",
    "       y_vals \n",
    "    ]).T\n",
    "    return x_y_sine_data\n",
    "\n",
    "x_y_sine_data = generate_sine_data()\n",
    "x_vals = x_y_sine_data[:, 0, np.newaxis]\n",
    "y_vals = x_y_sine_data[:, 1, np.newaxis]\n",
    "\n",
    "import matplotlib.pyplot as plt\n",
    "plt.figure(1)\n",
    "plt.scatter(x_vals, y_vals, s=1)\n",
    "plt.show()"
   ]
  },
  {
   "cell_type": "markdown",
   "id": "0ffcc6a1",
   "metadata": {},
   "source": [
    "It'd be fun to see what our untrained network predicts for the x's from the above plot. Let's do it!"
   ]
  },
  {
   "cell_type": "code",
   "execution_count": 326,
   "id": "e553a9a6",
   "metadata": {},
   "outputs": [
    {
     "data": {
      "image/png": "[encoded data removed]",
      "text/plain": [
       "<Figure size 640x480 with 1 Axes>"
      ]
     },
     "metadata": {},
     "output_type": "display_data"
    }
   ],
   "source": [
    "# since we going to be doing a 2d function,\n",
    "# our input will be a 1d array - the X values\n",
    "# our output will also be a 1d array - the Y Values\n",
    "\n",
    "num_inputs = 1\n",
    "hidden_layer_1_weight_matrix = np.random.uniform(low=-1, high=1, size=(num_nodes_hidden_layer_1, num_inputs + 1))\n",
    "\n",
    "sine_x_vals = x_vals.T\n",
    "layer_1_activations, layer_2_activations, sine_y_vals_projected = forward_prop(sine_x_vals, hidden_layer_1_weight_matrix, hidden_layer_2_weight_matrix, \n",
    "                 output_layer_weight_matrix)\n",
    "\n",
    "plt.figure(2)\n",
    "plt.scatter(x_vals, sine_y_vals_projected, s=1)\n",
    "plt.show()"
   ]
  },
  {
   "cell_type": "markdown",
   "id": "0473e14f",
   "metadata": {},
   "source": [
    "Not sine :)"
   ]
  },
  {
   "cell_type": "markdown",
   "id": "3f291ee9",
   "metadata": {},
   "source": [
    "## Back Propagation\n",
    "#### As described by Andrew Ng:\n",
    "##### 1. https://www.youtube.com/watch?v=x_Eamf8MHwU\n",
    "##### 2. https://www.youtube.com/watch?v=cObOAIImeVQ"
   ]
  },
  {
   "cell_type": "markdown",
   "id": "6f2b8486",
   "metadata": {},
   "source": [
    "The backprop function should take in a list of (weight matrix, corresponding activations vector) pairs.  \n",
    "It should return a list of updated weigth matrices. Let's see if we can pull it off.  \n",
    "We won't follow best programming practices for the sake of better readability. We will explicitly pass all the weight matrices and activations, so the code is easier to follow."
   ]
  },
  {
   "cell_type": "code",
   "execution_count": 327,
   "id": "86aea3d5",
   "metadata": {},
   "outputs": [
    {
     "name": "stdout",
     "output_type": "stream",
     "text": [
      "se_before_backprop: 3106.6344413859442\n",
      "OUTPUT_LAYER_GRADIENT.shape: (1, 5)\n",
      "output_layer_weight_matrix.shape: (1, 5)\n",
      "LAYER_2_GRADIENT.shape: (4, 7)\n",
      "layer_2_weight_matrix.shape: (4, 7)\n",
      "LAYER_1_GRADIENT.shape: (6, 2)\n",
      "layer_1_weight_matrix.shape: (6, 2)\n",
      "se_after_backprop: 2858.3773047481736\n"
     ]
    },
    {
     "data": {
      "image/png": "[encoded data removed]",
      "text/plain": [
       "<Figure size 640x480 with 1 Axes>"
      ]
     },
     "metadata": {},
     "output_type": "display_data"
    }
   ],
   "source": [
    "def backprop(input_vector, layer_1_weight_matrix, layer_1_activations, layer_2_weight_matrix, layer_2_activations,\n",
    "             output_layer_weight_matrix, output_vector, labels_vector, learning_rate=0.1):\n",
    "    \n",
    "    num_records = output_vector.shape[1]\n",
    "    # This is using the naming convention from Andrew NG's lectures\n",
    "    delta_4 = output_vector - labels_vector\n",
    "    THETA_3_transpose_dot_delta_4 = np.dot(output_layer_weight_matrix.T, delta_4)\n",
    "    \n",
    "    g_prime_of_z_3 = layer_2_activations * (1 - layer_2_activations)\n",
    "    \n",
    "    BIG_DELTA_3 = np.dot(delta_4, layer_2_activations.T)\n",
    "    # The following is Big D in NG's lecture\n",
    "    OUTPUT_LAYER_GRADIENT = BIG_DELTA_3/num_records\n",
    "    print(f'OUTPUT_LAYER_GRADIENT.shape: {OUTPUT_LAYER_GRADIENT.shape}')\n",
    "    print(f'output_layer_weight_matrix.shape: {output_layer_weight_matrix.shape}')\n",
    "    \n",
    "    delta_3 = THETA_3_transpose_dot_delta_4 * g_prime_of_z_3\n",
    "    \n",
    "    # This is cosmetic and to do with this specific implementation:\n",
    "    # Take out the delta of biases, so the dimensions match up - it should be zeros anyway\n",
    "    delta_3 = delta_3[1:delta_3.shape[0], :]\n",
    "    \n",
    "    THETA_2_transpose_dot_delta_3 = np.dot(layer_2_weight_matrix.T, delta_3)\n",
    "    \n",
    "    g_prime_of_z_2 = layer_1_activations * (1 - layer_1_activations)\n",
    "    \n",
    "    BIG_DELTA_2 = np.dot(delta_3, layer_1_activations.T)\n",
    "    # The following is Big D in NG's lecture\n",
    "    LAYER_2_GRADIENT = BIG_DELTA_2/num_records\n",
    "    print(f'LAYER_2_GRADIENT.shape: {LAYER_2_GRADIENT.shape}')\n",
    "    print(f'layer_2_weight_matrix.shape: {layer_2_weight_matrix.shape}')\n",
    "    \n",
    "    \n",
    "    delta_2 = THETA_2_transpose_dot_delta_3 * g_prime_of_z_2\n",
    "    delta_2 = delta_2[1:delta_2.shape[0], :]\n",
    " \n",
    "    BIG_DELTA_1 = np.dot(delta_2, input_vector.T)\n",
    "    # The following is Big D in NG's lecture\n",
    "    LAYER_1_GRADIENT = BIG_DELTA_1/num_records\n",
    "    print(f'LAYER_1_GRADIENT.shape: {LAYER_1_GRADIENT.shape}')\n",
    "    print(f'layer_1_weight_matrix.shape: {layer_1_weight_matrix.shape}')\n",
    "    \n",
    "    # Update weigts\n",
    "    layer_1_weight_matrix -= learning_rate * LAYER_1_GRADIENT\n",
    "    layer_2_weight_matrix -= learning_rate * LAYER_2_GRADIENT\n",
    "    output_layer_weight_matrix -= learning_rate * OUTPUT_LAYER_GRADIENT\n",
    "    \n",
    "    return layer_1_weight_matrix, layer_2_weight_matrix, output_layer_weight_matrix\n",
    "    \n",
    "num_records = sine_x_vals.shape[1]\n",
    "sine_x_vals_plus_bias = np.vstack([np.ones(num_records), sine_x_vals])\n",
    "actual_sine_y_vals = y_vals.T\n",
    "\n",
    "se_before_backprop = np.sum(np.square(sine_y_vals_projected - actual_sine_y_vals))\n",
    "print(f'se_before_backprop: {se_before_backprop}')\n",
    "\n",
    "hidden_layer_1_weight_matrix, hidden_layer_2_weight_matrix, output_layer_weight_matrix = \\\n",
    "backprop(sine_x_vals_plus_bias, hidden_layer_1_weight_matrix, layer_1_activations, \n",
    "                                       hidden_layer_2_weight_matrix, layer_2_activations, output_layer_weight_matrix, \n",
    "                                       sine_y_vals_projected, actual_sine_y_vals, learning_rate=0.1)\n",
    "\n",
    "layer_1_activations, layer_2_activations, sine_y_vals_projected = forward_prop(sine_x_vals, hidden_layer_1_weight_matrix, hidden_layer_2_weight_matrix, \n",
    "                 output_layer_weight_matrix)\n",
    "\n",
    "se_after_backprop = np.sum(np.square(sine_y_vals_projected - actual_sine_y_vals))\n",
    "print(f'se_after_backprop: {se_after_backprop}')\n",
    "\n",
    "\n",
    "plt.figure(3)\n",
    "plt.scatter(x_vals, sine_y_vals_projected, s=1)\n",
    "plt.show()\n",
    "    "
   ]
  },
  {
   "cell_type": "code",
   "execution_count": null,
   "id": "9882a9f1",
   "metadata": {},
   "outputs": [],
   "source": []
  }
 ],
 "metadata": {
  "kernelspec": {
   "display_name": "Python 3 (ipykernel)",
   "language": "python",
   "name": "python3"
  },
  "language_info": {
   "codemirror_mode": {
    "name": "ipython",
    "version": 3
   },
   "file_extension": ".py",
   "mimetype": "text/x-python",
   "name": "python",
   "nbconvert_exporter": "python",
   "pygments_lexer": "ipython3",
   "version": "3.9.7"
  }
 },
 "nbformat": 4,
 "nbformat_minor": 5
}
